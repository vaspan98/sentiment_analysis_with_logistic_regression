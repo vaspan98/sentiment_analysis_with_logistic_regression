{
  "nbformat": 4,
  "nbformat_minor": 0,
  "metadata": {
    "colab": {
      "name": "sentiment_analysis_logistic_rergression.ipynb",
      "provenance": [],
      "collapsed_sections": [],
      "machine_shape": "hm"
    },
    "kernelspec": {
      "display_name": "Python 3",
      "language": "python",
      "name": "python3"
    },
    "language_info": {
      "codemirror_mode": {
        "name": "ipython",
        "version": 3
      },
      "file_extension": ".py",
      "mimetype": "text/x-python",
      "name": "python",
      "nbconvert_exporter": "python",
      "pygments_lexer": "ipython3",
      "version": "3.8.3"
    }
  },
  "cells": [
    {
      "cell_type": "markdown",
      "metadata": {
        "id": "ig1HGm_sXvHx"
      },
      "source": [
        "# Twitter Sentiment Analysis - Logistic Regression \n",
        "## <div> Vassilis Panagakis </div>"
      ]
    },
    {
      "cell_type": "code",
      "metadata": {
        "id": "L3VQYcefW8Hf"
      },
      "source": [
        "import pandas as pd\n",
        "import numpy as np \n",
        "import re\n",
        "import warnings\n",
        "\n",
        "warnings.filterwarnings('ignore')  "
      ],
      "execution_count": 1,
      "outputs": []
    },
    {
      "cell_type": "markdown",
      "metadata": {
        "id": "sStnn3cnXAOM"
      },
      "source": [
        "## Load Data"
      ]
    },
    {
      "cell_type": "code",
      "metadata": {
        "id": "FyzcY9_IXCal",
        "colab": {
          "base_uri": "https://localhost:8080/"
        },
        "outputId": "28419655-0f44-428a-c204-e379539c5950"
      },
      "source": [
        "from google.colab import drive \n",
        "drive.mount('/content/gdrive')"
      ],
      "execution_count": 2,
      "outputs": [
        {
          "output_type": "stream",
          "text": [
            "Mounted at /content/gdrive\n"
          ],
          "name": "stdout"
        }
      ]
    },
    {
      "cell_type": "markdown",
      "metadata": {
        "id": "_LM1FQO7XNK6"
      },
      "source": [
        "#### Create a dataframe from SentimentTweets.csv file data"
      ]
    },
    {
      "cell_type": "code",
      "metadata": {
        "id": "Z54N_yxEXG2r",
        "colab": {
          "base_uri": "https://localhost:8080/",
          "height": 204
        },
        "outputId": "a87a2813-0ef4-48a3-abc4-8911b8b1d1d2"
      },
      "source": [
        "df=pd.read_csv('gdrive/My Drive/Colab Notebooks/SentimentTweets.csv', usecols=['target','id','date','flag','user','text'])\n",
        "\n",
        "df.head()"
      ],
      "execution_count": 3,
      "outputs": [
        {
          "output_type": "execute_result",
          "data": {
            "text/html": [
              "<div>\n",
              "<style scoped>\n",
              "    .dataframe tbody tr th:only-of-type {\n",
              "        vertical-align: middle;\n",
              "    }\n",
              "\n",
              "    .dataframe tbody tr th {\n",
              "        vertical-align: top;\n",
              "    }\n",
              "\n",
              "    .dataframe thead th {\n",
              "        text-align: right;\n",
              "    }\n",
              "</style>\n",
              "<table border=\"1\" class=\"dataframe\">\n",
              "  <thead>\n",
              "    <tr style=\"text-align: right;\">\n",
              "      <th></th>\n",
              "      <th>target</th>\n",
              "      <th>id</th>\n",
              "      <th>date</th>\n",
              "      <th>flag</th>\n",
              "      <th>user</th>\n",
              "      <th>text</th>\n",
              "    </tr>\n",
              "  </thead>\n",
              "  <tbody>\n",
              "    <tr>\n",
              "      <th>0</th>\n",
              "      <td>0</td>\n",
              "      <td>2249621587</td>\n",
              "      <td>Fri Jun 19 22:41:08 PDT 2009</td>\n",
              "      <td>NO_QUERY</td>\n",
              "      <td>sukumarpant</td>\n",
              "      <td>#brokenpromises...</td>\n",
              "    </tr>\n",
              "    <tr>\n",
              "      <th>1</th>\n",
              "      <td>0</td>\n",
              "      <td>2059003515</td>\n",
              "      <td>Sat Jun 06 16:03:21 PDT 2009</td>\n",
              "      <td>NO_QUERY</td>\n",
              "      <td>MTMSparrow</td>\n",
              "      <td>David Carradine  so sad. Thai's law not sure i...</td>\n",
              "    </tr>\n",
              "    <tr>\n",
              "      <th>2</th>\n",
              "      <td>4</td>\n",
              "      <td>2017466467</td>\n",
              "      <td>Wed Jun 03 08:26:14 PDT 2009</td>\n",
              "      <td>NO_QUERY</td>\n",
              "      <td>itsmemcee</td>\n",
              "      <td>A @ 415 B @ 425. Tell your bro i say congrats!</td>\n",
              "    </tr>\n",
              "    <tr>\n",
              "      <th>3</th>\n",
              "      <td>4</td>\n",
              "      <td>2186457254</td>\n",
              "      <td>Mon Jun 15 18:52:04 PDT 2009</td>\n",
              "      <td>NO_QUERY</td>\n",
              "      <td>jdfreivald</td>\n",
              "      <td>@littlefluffycat  Indeed.</td>\n",
              "    </tr>\n",
              "    <tr>\n",
              "      <th>4</th>\n",
              "      <td>4</td>\n",
              "      <td>2064458395</td>\n",
              "      <td>Sun Jun 07 06:19:20 PDT 2009</td>\n",
              "      <td>NO_QUERY</td>\n",
              "      <td>CrazyHan</td>\n",
              "      <td>Completed Race 4 Life in 58mins with girlies f...</td>\n",
              "    </tr>\n",
              "  </tbody>\n",
              "</table>\n",
              "</div>"
            ],
            "text/plain": [
              "   target  ...                                               text\n",
              "0       0  ...                                #brokenpromises... \n",
              "1       0  ...  David Carradine  so sad. Thai's law not sure i...\n",
              "2       4  ...    A @ 415 B @ 425. Tell your bro i say congrats! \n",
              "3       4  ...                          @littlefluffycat  Indeed.\n",
              "4       4  ...  Completed Race 4 Life in 58mins with girlies f...\n",
              "\n",
              "[5 rows x 6 columns]"
            ]
          },
          "metadata": {
            "tags": []
          },
          "execution_count": 3
        }
      ]
    },
    {
      "cell_type": "code",
      "metadata": {
        "id": "9Cu7EnZPXad-",
        "colab": {
          "base_uri": "https://localhost:8080/",
          "height": 204
        },
        "outputId": "b275e515-d3be-4103-9a77-332790191bdd"
      },
      "source": [
        "df.drop(columns=['id', 'date', 'flag', 'user'], axis=1, inplace=True) #drop useless columns\n",
        "\n",
        "df.head()"
      ],
      "execution_count": 4,
      "outputs": [
        {
          "output_type": "execute_result",
          "data": {
            "text/html": [
              "<div>\n",
              "<style scoped>\n",
              "    .dataframe tbody tr th:only-of-type {\n",
              "        vertical-align: middle;\n",
              "    }\n",
              "\n",
              "    .dataframe tbody tr th {\n",
              "        vertical-align: top;\n",
              "    }\n",
              "\n",
              "    .dataframe thead th {\n",
              "        text-align: right;\n",
              "    }\n",
              "</style>\n",
              "<table border=\"1\" class=\"dataframe\">\n",
              "  <thead>\n",
              "    <tr style=\"text-align: right;\">\n",
              "      <th></th>\n",
              "      <th>target</th>\n",
              "      <th>text</th>\n",
              "    </tr>\n",
              "  </thead>\n",
              "  <tbody>\n",
              "    <tr>\n",
              "      <th>0</th>\n",
              "      <td>0</td>\n",
              "      <td>#brokenpromises...</td>\n",
              "    </tr>\n",
              "    <tr>\n",
              "      <th>1</th>\n",
              "      <td>0</td>\n",
              "      <td>David Carradine  so sad. Thai's law not sure i...</td>\n",
              "    </tr>\n",
              "    <tr>\n",
              "      <th>2</th>\n",
              "      <td>4</td>\n",
              "      <td>A @ 415 B @ 425. Tell your bro i say congrats!</td>\n",
              "    </tr>\n",
              "    <tr>\n",
              "      <th>3</th>\n",
              "      <td>4</td>\n",
              "      <td>@littlefluffycat  Indeed.</td>\n",
              "    </tr>\n",
              "    <tr>\n",
              "      <th>4</th>\n",
              "      <td>4</td>\n",
              "      <td>Completed Race 4 Life in 58mins with girlies f...</td>\n",
              "    </tr>\n",
              "  </tbody>\n",
              "</table>\n",
              "</div>"
            ],
            "text/plain": [
              "   target                                               text\n",
              "0       0                                #brokenpromises... \n",
              "1       0  David Carradine  so sad. Thai's law not sure i...\n",
              "2       4    A @ 415 B @ 425. Tell your bro i say congrats! \n",
              "3       4                          @littlefluffycat  Indeed.\n",
              "4       4  Completed Race 4 Life in 58mins with girlies f..."
            ]
          },
          "metadata": {
            "tags": []
          },
          "execution_count": 4
        }
      ]
    },
    {
      "cell_type": "code",
      "metadata": {
        "id": "r64ZFbZwXdIc"
      },
      "source": [
        "#split 'target' column from the rest of the data\n",
        "X = df[['text']]\n",
        "y = df[['target']]"
      ],
      "execution_count": 5,
      "outputs": []
    },
    {
      "cell_type": "code",
      "metadata": {
        "id": "Cv0fmkO5Xela"
      },
      "source": [
        "from sklearn.model_selection import train_test_split\n",
        "\n",
        "#get train and test dataframes \n",
        "train_X, test_X, train_Y, test_Y = train_test_split(X, y, test_size=0.2, stratify=df['target'], random_state = 42)"
      ],
      "execution_count": 6,
      "outputs": []
    },
    {
      "cell_type": "markdown",
      "metadata": {
        "id": "4qt2539dXho5"
      },
      "source": [
        "#### Display train and test sets after split"
      ]
    },
    {
      "cell_type": "code",
      "metadata": {
        "id": "EM1VLqxVXgI1",
        "colab": {
          "base_uri": "https://localhost:8080/",
          "height": 204
        },
        "outputId": "80758f7d-871b-42a4-e51c-38cd4278439a"
      },
      "source": [
        "train_X.head()"
      ],
      "execution_count": 7,
      "outputs": [
        {
          "output_type": "execute_result",
          "data": {
            "text/html": [
              "<div>\n",
              "<style scoped>\n",
              "    .dataframe tbody tr th:only-of-type {\n",
              "        vertical-align: middle;\n",
              "    }\n",
              "\n",
              "    .dataframe tbody tr th {\n",
              "        vertical-align: top;\n",
              "    }\n",
              "\n",
              "    .dataframe thead th {\n",
              "        text-align: right;\n",
              "    }\n",
              "</style>\n",
              "<table border=\"1\" class=\"dataframe\">\n",
              "  <thead>\n",
              "    <tr style=\"text-align: right;\">\n",
              "      <th></th>\n",
              "      <th>text</th>\n",
              "    </tr>\n",
              "  </thead>\n",
              "  <tbody>\n",
              "    <tr>\n",
              "      <th>492660</th>\n",
              "      <td>The respected journalist @robfahey just tried ...</td>\n",
              "    </tr>\n",
              "    <tr>\n",
              "      <th>858754</th>\n",
              "      <td>@maggienash  Thanks, Maggie.  I'm still bouncing</td>\n",
              "    </tr>\n",
              "    <tr>\n",
              "      <th>746070</th>\n",
              "      <td>@do0dlebugdebz not now,but will be if you're o...</td>\n",
              "    </tr>\n",
              "    <tr>\n",
              "      <th>885531</th>\n",
              "      <td>@Pure798 yea that works...ughh</td>\n",
              "    </tr>\n",
              "    <tr>\n",
              "      <th>806384</th>\n",
              "      <td>@melapoo lol Cool. I keep getting the weird on...</td>\n",
              "    </tr>\n",
              "  </tbody>\n",
              "</table>\n",
              "</div>"
            ],
            "text/plain": [
              "                                                     text\n",
              "492660  The respected journalist @robfahey just tried ...\n",
              "858754  @maggienash  Thanks, Maggie.  I'm still bouncing \n",
              "746070  @do0dlebugdebz not now,but will be if you're o...\n",
              "885531                    @Pure798 yea that works...ughh \n",
              "806384  @melapoo lol Cool. I keep getting the weird on..."
            ]
          },
          "metadata": {
            "tags": []
          },
          "execution_count": 7
        }
      ]
    },
    {
      "cell_type": "code",
      "metadata": {
        "id": "OBaNuTQZXksQ",
        "colab": {
          "base_uri": "https://localhost:8080/",
          "height": 204
        },
        "outputId": "b56e9ad0-241c-4f7f-b1db-7f14b5de1744"
      },
      "source": [
        "test_X.head()"
      ],
      "execution_count": 8,
      "outputs": [
        {
          "output_type": "execute_result",
          "data": {
            "text/html": [
              "<div>\n",
              "<style scoped>\n",
              "    .dataframe tbody tr th:only-of-type {\n",
              "        vertical-align: middle;\n",
              "    }\n",
              "\n",
              "    .dataframe tbody tr th {\n",
              "        vertical-align: top;\n",
              "    }\n",
              "\n",
              "    .dataframe thead th {\n",
              "        text-align: right;\n",
              "    }\n",
              "</style>\n",
              "<table border=\"1\" class=\"dataframe\">\n",
              "  <thead>\n",
              "    <tr style=\"text-align: right;\">\n",
              "      <th></th>\n",
              "      <th>text</th>\n",
              "    </tr>\n",
              "  </thead>\n",
              "  <tbody>\n",
              "    <tr>\n",
              "      <th>220479</th>\n",
              "      <td>...... fuck you soderling. fuck you. this has ...</td>\n",
              "    </tr>\n",
              "    <tr>\n",
              "      <th>840623</th>\n",
              "      <td>OK next step - today I learn to twitter from m...</td>\n",
              "    </tr>\n",
              "    <tr>\n",
              "      <th>772674</th>\n",
              "      <td>trying to upload a picture and loves how twitt...</td>\n",
              "    </tr>\n",
              "    <tr>\n",
              "      <th>1037193</th>\n",
              "      <td>@addictedtonye Get 100 followers a day using w...</td>\n",
              "    </tr>\n",
              "    <tr>\n",
              "      <th>971656</th>\n",
              "      <td>@AmeliaBt It sure is..</td>\n",
              "    </tr>\n",
              "  </tbody>\n",
              "</table>\n",
              "</div>"
            ],
            "text/plain": [
              "                                                      text\n",
              "220479   ...... fuck you soderling. fuck you. this has ...\n",
              "840623   OK next step - today I learn to twitter from m...\n",
              "772674   trying to upload a picture and loves how twitt...\n",
              "1037193  @addictedtonye Get 100 followers a day using w...\n",
              "971656                             @AmeliaBt It sure is.. "
            ]
          },
          "metadata": {
            "tags": []
          },
          "execution_count": 8
        }
      ]
    },
    {
      "cell_type": "markdown",
      "metadata": {
        "id": "4ClyD5k4Xl61"
      },
      "source": [
        "## Labels Pre-processing"
      ]
    },
    {
      "cell_type": "code",
      "metadata": {
        "id": "T6o-BhRXXnlJ"
      },
      "source": [
        "#replace 4 with 1 to create binary labels\n",
        "train_Y = train_Y.replace(4,1)\n",
        "test_Y = test_Y.replace(4,1)"
      ],
      "execution_count": 9,
      "outputs": []
    },
    {
      "cell_type": "code",
      "metadata": {
        "id": "t1gYVM9vXou7"
      },
      "source": [
        "#create numpy arrays for sets' labels\n",
        "train_y = np.asarray(train_Y['target'].tolist()) \n",
        "test_y = np.asarray(test_Y['target'].tolist())"
      ],
      "execution_count": 10,
      "outputs": []
    },
    {
      "cell_type": "markdown",
      "metadata": {
        "id": "zoYP6-ZRWFzt"
      },
      "source": [
        "#### Display binary labels "
      ]
    },
    {
      "cell_type": "code",
      "metadata": {
        "id": "BfnvjZX6V5mk",
        "colab": {
          "base_uri": "https://localhost:8080/",
          "height": 204
        },
        "outputId": "0a9f1e2f-6d4e-4675-f93e-056833177506"
      },
      "source": [
        "train_Y.head()"
      ],
      "execution_count": 11,
      "outputs": [
        {
          "output_type": "execute_result",
          "data": {
            "text/html": [
              "<div>\n",
              "<style scoped>\n",
              "    .dataframe tbody tr th:only-of-type {\n",
              "        vertical-align: middle;\n",
              "    }\n",
              "\n",
              "    .dataframe tbody tr th {\n",
              "        vertical-align: top;\n",
              "    }\n",
              "\n",
              "    .dataframe thead th {\n",
              "        text-align: right;\n",
              "    }\n",
              "</style>\n",
              "<table border=\"1\" class=\"dataframe\">\n",
              "  <thead>\n",
              "    <tr style=\"text-align: right;\">\n",
              "      <th></th>\n",
              "      <th>target</th>\n",
              "    </tr>\n",
              "  </thead>\n",
              "  <tbody>\n",
              "    <tr>\n",
              "      <th>492660</th>\n",
              "      <td>0</td>\n",
              "    </tr>\n",
              "    <tr>\n",
              "      <th>858754</th>\n",
              "      <td>1</td>\n",
              "    </tr>\n",
              "    <tr>\n",
              "      <th>746070</th>\n",
              "      <td>1</td>\n",
              "    </tr>\n",
              "    <tr>\n",
              "      <th>885531</th>\n",
              "      <td>0</td>\n",
              "    </tr>\n",
              "    <tr>\n",
              "      <th>806384</th>\n",
              "      <td>1</td>\n",
              "    </tr>\n",
              "  </tbody>\n",
              "</table>\n",
              "</div>"
            ],
            "text/plain": [
              "        target\n",
              "492660       0\n",
              "858754       1\n",
              "746070       1\n",
              "885531       0\n",
              "806384       1"
            ]
          },
          "metadata": {
            "tags": []
          },
          "execution_count": 11
        }
      ]
    },
    {
      "cell_type": "code",
      "metadata": {
        "id": "Bfu9v5HsV919",
        "colab": {
          "base_uri": "https://localhost:8080/",
          "height": 204
        },
        "outputId": "245e3f28-9685-4fde-9bb5-45018fac6621"
      },
      "source": [
        "test_Y.head()"
      ],
      "execution_count": 12,
      "outputs": [
        {
          "output_type": "execute_result",
          "data": {
            "text/html": [
              "<div>\n",
              "<style scoped>\n",
              "    .dataframe tbody tr th:only-of-type {\n",
              "        vertical-align: middle;\n",
              "    }\n",
              "\n",
              "    .dataframe tbody tr th {\n",
              "        vertical-align: top;\n",
              "    }\n",
              "\n",
              "    .dataframe thead th {\n",
              "        text-align: right;\n",
              "    }\n",
              "</style>\n",
              "<table border=\"1\" class=\"dataframe\">\n",
              "  <thead>\n",
              "    <tr style=\"text-align: right;\">\n",
              "      <th></th>\n",
              "      <th>target</th>\n",
              "    </tr>\n",
              "  </thead>\n",
              "  <tbody>\n",
              "    <tr>\n",
              "      <th>220479</th>\n",
              "      <td>0</td>\n",
              "    </tr>\n",
              "    <tr>\n",
              "      <th>840623</th>\n",
              "      <td>1</td>\n",
              "    </tr>\n",
              "    <tr>\n",
              "      <th>772674</th>\n",
              "      <td>0</td>\n",
              "    </tr>\n",
              "    <tr>\n",
              "      <th>1037193</th>\n",
              "      <td>1</td>\n",
              "    </tr>\n",
              "    <tr>\n",
              "      <th>971656</th>\n",
              "      <td>0</td>\n",
              "    </tr>\n",
              "  </tbody>\n",
              "</table>\n",
              "</div>"
            ],
            "text/plain": [
              "         target\n",
              "220479        0\n",
              "840623        1\n",
              "772674        0\n",
              "1037193       1\n",
              "971656        0"
            ]
          },
          "metadata": {
            "tags": []
          },
          "execution_count": 12
        }
      ]
    },
    {
      "cell_type": "markdown",
      "metadata": {
        "id": "ZzDrAI8xXpzc"
      },
      "source": [
        "## Data Pre-processing"
      ]
    },
    {
      "cell_type": "markdown",
      "metadata": {
        "id": "JhfmSB4kcQDV"
      },
      "source": [
        "#### Load cleansed data from csv\n"
      ]
    },
    {
      "cell_type": "code",
      "metadata": {
        "id": "YoFIMphscMsR"
      },
      "source": [
        "# restore processed data\n",
        "train_X = pd.read_csv('gdrive/My Drive/Colab Notebooks/CleanedTrain.csv', usecols=['text','processedText'])\n",
        "test_X = pd.read_csv('gdrive/My Drive/Colab Notebooks/CleanedTest.csv', usecols=['text','processedText'])"
      ],
      "execution_count": null,
      "outputs": []
    },
    {
      "cell_type": "code",
      "metadata": {
        "id": "RtrcZJSWXsb7"
      },
      "source": [
        "#function that removes all @mentions, links and non alphabetic strings \n",
        "def clean_content(text):\n",
        "    \n",
        "    text = re.sub(r'@[A-Za-z0-9_]+', '', text) #remove text with @ prefix\n",
        "    text = re.sub(r'http\\S+', '', text) #remove text with http prefix (links)  \n",
        "    text = re.sub(r'www\\S+', '', text) #remove text with www prefix (links)\n",
        "    text = re.sub(r'\\\\\\w+', '', str(text)) #remove text after backslash\n",
        "    text = re.sub(r'\\b\\w{1,2}\\b', '', text) #remove text containing 2 or less characters\n",
        "    \n",
        "    text =  ''.join(ch for ch in text if ch.isalpha() or ch == ' ')\n",
        "    \n",
        "    text = text.lower() #convert text into lowercase\n",
        "    \n",
        "    return text"
      ],
      "execution_count": 13,
      "outputs": []
    },
    {
      "cell_type": "code",
      "metadata": {
        "id": "TRZXeA2nXt8L"
      },
      "source": [
        "#create a column for each set containing the processed text data\n",
        "for index, row in train_X.iterrows():\n",
        "    train_X.loc[index,'processedText'] = clean_content(train_X.loc[index,'text'])\n",
        "\n",
        "for index, row in test_X.iterrows():\n",
        "    test_X.loc[index,'processedText'] = clean_content(test_X.loc[index,'text'])"
      ],
      "execution_count": 14,
      "outputs": []
    },
    {
      "cell_type": "markdown",
      "metadata": {
        "id": "Pt5LUmFqXwzV"
      },
      "source": [
        "#### Display train and test sets after text cleansing"
      ]
    },
    {
      "cell_type": "code",
      "metadata": {
        "id": "YPZLdglyXvZh",
        "colab": {
          "base_uri": "https://localhost:8080/",
          "height": 204
        },
        "outputId": "670e97d8-4b1f-4a8c-dc63-b18e9c06b436"
      },
      "source": [
        "train_X.head()"
      ],
      "execution_count": 33,
      "outputs": [
        {
          "output_type": "execute_result",
          "data": {
            "text/html": [
              "<div>\n",
              "<style scoped>\n",
              "    .dataframe tbody tr th:only-of-type {\n",
              "        vertical-align: middle;\n",
              "    }\n",
              "\n",
              "    .dataframe tbody tr th {\n",
              "        vertical-align: top;\n",
              "    }\n",
              "\n",
              "    .dataframe thead th {\n",
              "        text-align: right;\n",
              "    }\n",
              "</style>\n",
              "<table border=\"1\" class=\"dataframe\">\n",
              "  <thead>\n",
              "    <tr style=\"text-align: right;\">\n",
              "      <th></th>\n",
              "      <th>text</th>\n",
              "      <th>processedText</th>\n",
              "    </tr>\n",
              "  </thead>\n",
              "  <tbody>\n",
              "    <tr>\n",
              "      <th>492660</th>\n",
              "      <td>The respected journalist @robfahey just tried ...</td>\n",
              "      <td>the respected journalist  just tried  have sex...</td>\n",
              "    </tr>\n",
              "    <tr>\n",
              "      <th>858754</th>\n",
              "      <td>@maggienash  Thanks, Maggie.  I'm still bouncing</td>\n",
              "      <td>thanks maggie   still bouncing</td>\n",
              "    </tr>\n",
              "    <tr>\n",
              "      <th>746070</th>\n",
              "      <td>@do0dlebugdebz not now,but will be if you're o...</td>\n",
              "      <td>not nowbut will   you    just sounded like da...</td>\n",
              "    </tr>\n",
              "    <tr>\n",
              "      <th>885531</th>\n",
              "      <td>@Pure798 yea that works...ughh</td>\n",
              "      <td>yea that worksughh</td>\n",
              "    </tr>\n",
              "    <tr>\n",
              "      <th>806384</th>\n",
              "      <td>@melapoo lol Cool. I keep getting the weird on...</td>\n",
              "      <td>lol cool  keep getting the weird ones  got th...</td>\n",
              "    </tr>\n",
              "  </tbody>\n",
              "</table>\n",
              "</div>"
            ],
            "text/plain": [
              "                                                     text                                      processedText\n",
              "492660  The respected journalist @robfahey just tried ...  the respected journalist  just tried  have sex...\n",
              "858754  @maggienash  Thanks, Maggie.  I'm still bouncing                     thanks maggie   still bouncing \n",
              "746070  @do0dlebugdebz not now,but will be if you're o...   not nowbut will   you    just sounded like da...\n",
              "885531                    @Pure798 yea that works...ughh                                 yea that worksughh \n",
              "806384  @melapoo lol Cool. I keep getting the weird on...   lol cool  keep getting the weird ones  got th..."
            ]
          },
          "metadata": {
            "tags": []
          },
          "execution_count": 33
        }
      ]
    },
    {
      "cell_type": "code",
      "metadata": {
        "id": "8_dyGR4IXzTG",
        "colab": {
          "base_uri": "https://localhost:8080/",
          "height": 204
        },
        "outputId": "b29835f7-bedf-45f6-9b39-a003eb46a353"
      },
      "source": [
        "test_X.head()"
      ],
      "execution_count": 34,
      "outputs": [
        {
          "output_type": "execute_result",
          "data": {
            "text/html": [
              "<div>\n",
              "<style scoped>\n",
              "    .dataframe tbody tr th:only-of-type {\n",
              "        vertical-align: middle;\n",
              "    }\n",
              "\n",
              "    .dataframe tbody tr th {\n",
              "        vertical-align: top;\n",
              "    }\n",
              "\n",
              "    .dataframe thead th {\n",
              "        text-align: right;\n",
              "    }\n",
              "</style>\n",
              "<table border=\"1\" class=\"dataframe\">\n",
              "  <thead>\n",
              "    <tr style=\"text-align: right;\">\n",
              "      <th></th>\n",
              "      <th>text</th>\n",
              "      <th>processedText</th>\n",
              "    </tr>\n",
              "  </thead>\n",
              "  <tbody>\n",
              "    <tr>\n",
              "      <th>220479</th>\n",
              "      <td>...... fuck you soderling. fuck you. this has ...</td>\n",
              "      <td>fuck you soderling fuck you this has    night...</td>\n",
              "    </tr>\n",
              "    <tr>\n",
              "      <th>840623</th>\n",
              "      <td>OK next step - today I learn to twitter from m...</td>\n",
              "      <td>next step  today  learn  twitter from  phone ...</td>\n",
              "    </tr>\n",
              "    <tr>\n",
              "      <th>772674</th>\n",
              "      <td>trying to upload a picture and loves how twitt...</td>\n",
              "      <td>trying  upload  picture and loves how twitter ...</td>\n",
              "    </tr>\n",
              "    <tr>\n",
              "      <th>1037193</th>\n",
              "      <td>@addictedtonye Get 100 followers a day using w...</td>\n",
              "      <td>get  followers  day using  once you add every...</td>\n",
              "    </tr>\n",
              "    <tr>\n",
              "      <th>971656</th>\n",
              "      <td>@AmeliaBt It sure is..</td>\n",
              "      <td>sure</td>\n",
              "    </tr>\n",
              "  </tbody>\n",
              "</table>\n",
              "</div>"
            ],
            "text/plain": [
              "                                                      text                                      processedText\n",
              "220479   ...... fuck you soderling. fuck you. this has ...   fuck you soderling fuck you this has    night...\n",
              "840623   OK next step - today I learn to twitter from m...   next step  today  learn  twitter from  phone ...\n",
              "772674   trying to upload a picture and loves how twitt...  trying  upload  picture and loves how twitter ...\n",
              "1037193  @addictedtonye Get 100 followers a day using w...   get  followers  day using  once you add every...\n",
              "971656                             @AmeliaBt It sure is..                                              sure  "
            ]
          },
          "metadata": {
            "tags": []
          },
          "execution_count": 34
        }
      ]
    },
    {
      "cell_type": "code",
      "metadata": {
        "id": "fTdHdogAApwz"
      },
      "source": [
        "# # store processed data to a csv file\r\n",
        "# train_X.to_csv('gdrive/My Drive/Colab Notebooks/CleanedTrain.csv', index = True, header=True)\r\n",
        "# test_X.to_csv('gdrive/My Drive/Colab Notebooks/CleanedTest.csv', index = True, header=True)"
      ],
      "execution_count": null,
      "outputs": []
    },
    {
      "cell_type": "markdown",
      "metadata": {
        "id": "gdbg3VI4X2M_"
      },
      "source": [
        "### Tf-idf Vectorization"
      ]
    },
    {
      "cell_type": "code",
      "metadata": {
        "id": "kH2OoLFGX0n2"
      },
      "source": [
        "from sklearn.feature_extraction.text import TfidfVectorizer\n",
        "\n",
        "tfidfVectorizer = TfidfVectorizer(max_df=0.99, min_df=1, max_features=850)"
      ],
      "execution_count": 15,
      "outputs": []
    },
    {
      "cell_type": "code",
      "metadata": {
        "id": "Tkvhf9KzX4kO"
      },
      "source": [
        "tfidf = tfidfVectorizer.fit_transform(train_X['processedText'])\n",
        "\n",
        "vectors = []\n",
        "for v in tfidf.toarray():\n",
        "    vectors.append(v)\n",
        "\n",
        "#create a column in train set with texts' words tf-idf counts transformation\n",
        "train_X['tf-idf'] = pd.Series(vectors,index=train_X.index)"
      ],
      "execution_count": 16,
      "outputs": []
    },
    {
      "cell_type": "code",
      "metadata": {
        "id": "6_CqXDC7X4m1"
      },
      "source": [
        "tfidf = tfidfVectorizer.transform(test_X['processedText'])\n",
        "\n",
        "vectors = []\n",
        "for v in tfidf.toarray():\n",
        "    vectors.append(v)\n",
        "\n",
        "#create a column in test set with texts' words tf-idf counts transformation    \n",
        "test_X['tf-idf'] = pd.Series(vectors,index=test_X.index)"
      ],
      "execution_count": 17,
      "outputs": []
    },
    {
      "cell_type": "markdown",
      "metadata": {
        "id": "z-PYEp39X9n9"
      },
      "source": [
        "#### Insert 'tf-idf' columns to arrays for both training and test sets"
      ]
    },
    {
      "cell_type": "code",
      "metadata": {
        "id": "ugli5OL4YEYt"
      },
      "source": [
        "train_tfidf = np.asarray(train_X['tf-idf'].tolist())\n",
        "test_tfidf = np.asarray(test_X['tf-idf'].tolist())"
      ],
      "execution_count": 18,
      "outputs": []
    },
    {
      "cell_type": "markdown",
      "metadata": {
        "id": "P3c0KOKtMziW"
      },
      "source": [
        "### Evaluation Functions"
      ]
    },
    {
      "cell_type": "code",
      "metadata": {
        "id": "_CE6lI8iYIVE"
      },
      "source": [
        "#create a table to display the accuracy and F1-score of the Classifier \n",
        "lr_dic = {'LR':['-','-','-']}\n",
        "\n",
        "lr_df = pd.DataFrame.from_dict(lr_dic, orient='index', columns=['Precision','Recall','F1-Score'])"
      ],
      "execution_count": 23,
      "outputs": []
    },
    {
      "cell_type": "code",
      "metadata": {
        "id": "1p99GGa1MziZ"
      },
      "source": [
        "md={}\n",
        "\n",
        "#function that uses values from a dictionary to create a dataframe to store model evaluation values\n",
        "def model_dataframe(classifier, avg_prec, prec_std, avg_rec, rec_std, avg_f1, f1_std):\n",
        "\n",
        "    md['classifier'] = classifier\n",
        "    md['avg-precision'] = avg_prec\n",
        "    md['precision-std'] = prec_std\n",
        "    md['avg-recall'] = avg_rec\n",
        "    md['recall-std'] = rec_std\n",
        "    md['avg-f1-score'] = avg_f1\n",
        "    md['f1-score-std'] = f1_std\n",
        "    \n",
        "    df = pd.DataFrame(data=md) #create dataframe from dictionary data\n",
        "    \n",
        "    return df "
      ],
      "execution_count": 24,
      "outputs": []
    },
    {
      "cell_type": "code",
      "metadata": {
        "id": "Zbce9_x0Mzic"
      },
      "source": [
        "from sklearn.model_selection import cross_val_score, KFold, StratifiedKFold\n",
        "\n",
        "#define k-fold evaluation methods\n",
        "numOfFolds = 10\n",
        "cv1 = KFold(n_splits=numOfFolds, shuffle=True)\n",
        "cv2 = StratifiedKFold(n_splits=numOfFolds, shuffle=True)"
      ],
      "execution_count": 25,
      "outputs": []
    },
    {
      "cell_type": "code",
      "metadata": {
        "id": "RT1JoZqFMzih"
      },
      "source": [
        "from sklearn import metrics\n",
        "\n",
        "#scoring methods that calculate the precision, recall and f-mesure values for every fold of k-fold cross validation \n",
        "\n",
        "def precEval(y_true, y_pred):\n",
        "    fold_report = metrics.classification_report(y_true, y_pred, output_dict=True)\n",
        "    prec = fold_report['macro avg']['precision']\n",
        "    return prec\n",
        "\n",
        "def recEval(y_true, y_pred):\n",
        "    fold_report = metrics.classification_report(y_true, y_pred, output_dict=True)\n",
        "    rec = fold_report['macro avg']['recall']\n",
        "    return rec\n",
        "\n",
        "def f1Eval(y_true, y_pred):\n",
        "    fold_report = metrics.classification_report(y_true, y_pred, output_dict=True)\n",
        "    f1 = fold_report['macro avg']['f1-score']\n",
        "    return f1"
      ],
      "execution_count": 26,
      "outputs": []
    },
    {
      "cell_type": "markdown",
      "metadata": {
        "id": "-2iU4RfMX_FG"
      },
      "source": [
        "## Classification"
      ]
    },
    {
      "cell_type": "code",
      "metadata": {
        "id": "DhYKBNj3Mzil"
      },
      "source": [
        "#initialize empty lists to store column values of the dataframe\n",
        "classifier, avg_prec, prec_std, avg_rec, rec_std, avg_f1, f1_std = ([] for i in range(7))"
      ],
      "execution_count": 27,
      "outputs": []
    },
    {
      "cell_type": "markdown",
      "metadata": {
        "id": "_hl4ktCgYBqD"
      },
      "source": [
        "###  Logistic Regression"
      ]
    },
    {
      "cell_type": "code",
      "metadata": {
        "id": "qy3lF8sVYLVP"
      },
      "source": [
        "from sklearn.linear_model import LogisticRegression\n",
        "\n",
        "classifier.append('Logistic Regression')\n",
        "\n",
        "#Logistic Regression Classifier using word tfidf transformation features\n",
        "lr = LogisticRegression(C=1, class_weight='balanced', solver='lbfgs', max_iter=20)\n",
        "\n",
        "lr.fit(train_tfidf, train_y)\n",
        "y_pred_lr = lr.predict(test_tfidf) #prediction on test set\n",
        "\n",
        "lr_df.loc['LR','Precision'] = \"%.3f%%\" % (metrics.precision_score(test_y, y_pred_lr) * 100)\n",
        "lr_df.loc['LR','Recall'] = \"%.3f%%\" % (metrics.recall_score(test_y, y_pred_lr) * 100)\n",
        "lr_df.loc['LR','F1-Score'] = \"%.3f%%\" % (metrics.f1_score(test_y, y_pred_lr) * 100)"
      ],
      "execution_count": 28,
      "outputs": []
    },
    {
      "cell_type": "code",
      "metadata": {
        "id": "u6S3X7tdMziw",
        "colab": {
          "base_uri": "https://localhost:8080/"
        },
        "outputId": "eab0e358-4dcc-48fe-d8e2-bb4354f97e63"
      },
      "source": [
        "#stratified 10-fold Cross Validation on train set\n",
        "prec = cross_val_score(lr, train_tfidf, train_y, cv=cv2, scoring=metrics.make_scorer(precEval))\n",
        "rec = cross_val_score(lr, train_tfidf, train_y, cv=cv2, scoring=metrics.make_scorer(recEval))\n",
        "f1 = cross_val_score(lr, train_tfidf, train_y, cv=cv2, scoring=metrics.make_scorer(f1Eval))\n",
        "\n",
        "av_prec = \"%.3f%%\" % (prec.mean() * 100)\n",
        "av_rec = \"%.3f%%\" % (rec.mean() * 100)\n",
        "av_f1 = \"%.3f%%\" % (f1.mean() * 100)\n",
        "\n",
        "avg_prec.append(av_prec), prec_std.append(prec.std())\n",
        "avg_rec.append(av_rec), rec_std.append(rec.std())\n",
        "avg_f1.append(av_f1), f1_std.append(f1.std())"
      ],
      "execution_count": 29,
      "outputs": [
        {
          "output_type": "execute_result",
          "data": {
            "text/plain": [
              "(None, None)"
            ]
          },
          "metadata": {
            "tags": []
          },
          "execution_count": 29
        }
      ]
    },
    {
      "cell_type": "markdown",
      "metadata": {
        "id": "6R7VR_H9Mziy"
      },
      "source": [
        "## Model Evaluation"
      ]
    },
    {
      "cell_type": "markdown",
      "metadata": {
        "id": "ocfPQMxmMziz"
      },
      "source": [
        "### Prediction on test set"
      ]
    },
    {
      "cell_type": "code",
      "metadata": {
        "id": "q2WcH4FjYOmM",
        "colab": {
          "base_uri": "https://localhost:8080/",
          "height": 80
        },
        "outputId": "1fb70a31-0e96-4717-9a3e-b8fe8fc43ede"
      },
      "source": [
        "lr_df"
      ],
      "execution_count": 30,
      "outputs": [
        {
          "output_type": "execute_result",
          "data": {
            "text/html": [
              "<div>\n",
              "<style scoped>\n",
              "    .dataframe tbody tr th:only-of-type {\n",
              "        vertical-align: middle;\n",
              "    }\n",
              "\n",
              "    .dataframe tbody tr th {\n",
              "        vertical-align: top;\n",
              "    }\n",
              "\n",
              "    .dataframe thead th {\n",
              "        text-align: right;\n",
              "    }\n",
              "</style>\n",
              "<table border=\"1\" class=\"dataframe\">\n",
              "  <thead>\n",
              "    <tr style=\"text-align: right;\">\n",
              "      <th></th>\n",
              "      <th>Precision</th>\n",
              "      <th>Recall</th>\n",
              "      <th>F1-Score</th>\n",
              "    </tr>\n",
              "  </thead>\n",
              "  <tbody>\n",
              "    <tr>\n",
              "      <th>LR</th>\n",
              "      <td>74.262%</td>\n",
              "      <td>77.093%</td>\n",
              "      <td>75.651%</td>\n",
              "    </tr>\n",
              "  </tbody>\n",
              "</table>\n",
              "</div>"
            ],
            "text/plain": [
              "   Precision   Recall F1-Score\n",
              "LR   74.262%  77.093%  75.651%"
            ]
          },
          "metadata": {
            "tags": []
          },
          "execution_count": 30
        }
      ]
    },
    {
      "cell_type": "markdown",
      "metadata": {
        "id": "I88kfee_Mzi1"
      },
      "source": [
        "### Stratified 10-fold Cross Validation on train set"
      ]
    },
    {
      "cell_type": "code",
      "metadata": {
        "id": "T0wAHnaVMzi2",
        "colab": {
          "base_uri": "https://localhost:8080/",
          "height": 80
        },
        "outputId": "bc90b381-e2e2-4753-8cd9-9729914bbdc5"
      },
      "source": [
        "mdf = model_dataframe(classifier, avg_prec, prec_std, avg_rec, rec_std, avg_f1, f1_std)\n",
        "mdf"
      ],
      "execution_count": 31,
      "outputs": [
        {
          "output_type": "execute_result",
          "data": {
            "text/html": [
              "<div>\n",
              "<style scoped>\n",
              "    .dataframe tbody tr th:only-of-type {\n",
              "        vertical-align: middle;\n",
              "    }\n",
              "\n",
              "    .dataframe tbody tr th {\n",
              "        vertical-align: top;\n",
              "    }\n",
              "\n",
              "    .dataframe thead th {\n",
              "        text-align: right;\n",
              "    }\n",
              "</style>\n",
              "<table border=\"1\" class=\"dataframe\">\n",
              "  <thead>\n",
              "    <tr style=\"text-align: right;\">\n",
              "      <th></th>\n",
              "      <th>classifier</th>\n",
              "      <th>avg-precision</th>\n",
              "      <th>precision-std</th>\n",
              "      <th>avg-recall</th>\n",
              "      <th>recall-std</th>\n",
              "      <th>avg-f1-score</th>\n",
              "      <th>f1-score-std</th>\n",
              "    </tr>\n",
              "  </thead>\n",
              "  <tbody>\n",
              "    <tr>\n",
              "      <th>0</th>\n",
              "      <td>Logistic Regression</td>\n",
              "      <td>75.315%</td>\n",
              "      <td>0.00136</td>\n",
              "      <td>75.260%</td>\n",
              "      <td>0.001262</td>\n",
              "      <td>75.256%</td>\n",
              "      <td>0.001285</td>\n",
              "    </tr>\n",
              "  </tbody>\n",
              "</table>\n",
              "</div>"
            ],
            "text/plain": [
              "            classifier avg-precision  ...  avg-f1-score f1-score-std\n",
              "0  Logistic Regression       75.315%  ...       75.256%     0.001285\n",
              "\n",
              "[1 rows x 7 columns]"
            ]
          },
          "metadata": {
            "tags": []
          },
          "execution_count": 31
        }
      ]
    }
  ]
}